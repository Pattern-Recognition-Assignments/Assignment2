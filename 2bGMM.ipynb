{
 "cells": [
  {
   "cell_type": "code",
   "execution_count": 1,
   "metadata": {},
   "outputs": [
    {
     "name": "stderr",
     "output_type": "stream",
     "text": [
      "c:\\Users\\Vaibhav\\AppData\\Local\\Programs\\Python\\Python39\\lib\\site-packages\\scipy\\__init__.py:146: UserWarning: A NumPy version >=1.17.3 and <1.25.0 is required for this version of SciPy (detected version 1.25.2\n",
      "  warnings.warn(f\"A NumPy version >={np_minversion} and <{np_maxversion}\"\n"
     ]
    }
   ],
   "source": [
    "from GMM import *\n",
    "    "
   ]
  },
  {
   "cell_type": "code",
   "execution_count": 2,
   "metadata": {},
   "outputs": [],
   "source": [
    "REALIMAGES=[[],[],[]]\n",
    "# reading vectors from files\n",
    "import os\n",
    "for files in os.listdir('./Vectors/forest_needleleaf'):\n",
    "    with open('./Vectors/forest_needleleaf/'+files, 'r') as f:\n",
    "        for line in f:\n",
    "            vectors = line.split(',')\n",
    "            vectors = [float(i) for i in vectors]\n",
    "            # print(vectors)\n",
    "            REALIMAGES[0].append(vectors)\n",
    "            \n",
    "for files in os.listdir('./Vectors/ice_cream_parlor'):\n",
    "    with open('./Vectors/ice_cream_parlor/'+files, 'r') as f:\n",
    "        for line in f:\n",
    "            vectors = line.split(',')\n",
    "            vectors = [float(i) for i in vectors]\n",
    "            # print(vectors)\n",
    "            REALIMAGES[1].append(vectors)\n",
    "            \n",
    "for files in os.listdir('./Vectors/pond'):\n",
    "    with open('./Vectors/pond/'+files, 'r') as f:\n",
    "        for line in f:\n",
    "            vectors = line.split(',')\n",
    "            vectors = [float(i) for i in vectors]\n",
    "            # print(vectors)\n",
    "            REALIMAGES[2].append(vectors)\n",
    "    "
   ]
  },
  {
   "cell_type": "code",
   "execution_count": 3,
   "metadata": {},
   "outputs": [
    {
     "name": "stdout",
     "output_type": "stream",
     "text": [
      "82440\n"
     ]
    }
   ],
   "source": [
    "print(len(REALIMAGES[2]))"
   ]
  },
  {
   "cell_type": "code",
   "execution_count": 4,
   "metadata": {},
   "outputs": [
    {
     "name": "stdout",
     "output_type": "stream",
     "text": [
      "82440\n"
     ]
    }
   ],
   "source": [
    "print(len(REALIMAGES[2]))"
   ]
  },
  {
   "cell_type": "code",
   "execution_count": 5,
   "metadata": {},
   "outputs": [],
   "source": [
    "from GMM import *\n",
    "model = Bayes_Classifier_GMM(1)"
   ]
  },
  {
   "cell_type": "code",
   "execution_count": 6,
   "metadata": {},
   "outputs": [
    {
     "name": "stdout",
     "output_type": "stream",
     "text": [
      "data (22581, 24)\n"
     ]
    }
   ],
   "source": [
    "likelihood=model.train(REALIMAGES)"
   ]
  }
 ],
 "metadata": {
  "kernelspec": {
   "display_name": "Python 3",
   "language": "python",
   "name": "python3"
  },
  "language_info": {
   "codemirror_mode": {
    "name": "ipython",
    "version": 3
   },
   "file_extension": ".py",
   "mimetype": "text/x-python",
   "name": "python",
   "nbconvert_exporter": "python",
   "pygments_lexer": "ipython3",
   "version": "3.9.1"
  }
 },
 "nbformat": 4,
 "nbformat_minor": 2
}
