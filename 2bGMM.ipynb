{
 "cells": [
  {
   "cell_type": "code",
   "execution_count": 1,
   "metadata": {},
   "outputs": [
    {
     "name": "stderr",
     "output_type": "stream",
     "text": [
      "c:\\Users\\Vaibhav\\AppData\\Local\\Programs\\Python\\Python39\\lib\\site-packages\\scipy\\__init__.py:146: UserWarning: A NumPy version >=1.17.3 and <1.25.0 is required for this version of SciPy (detected version 1.25.2\n",
      "  warnings.warn(f\"A NumPy version >={np_minversion} and <{np_maxversion}\"\n"
     ]
    }
   ],
   "source": [
    "from GMM import *\n",
    "    "
   ]
  },
  {
   "cell_type": "code",
   "execution_count": 2,
   "metadata": {},
   "outputs": [],
   "source": [
    "REALIMAGES=[[],[],[]]\n",
    "# reading vectors from files\n",
    "import os\n",
    "for files in os.listdir('./Vectors/forest_needleleaf'):\n",
    "    with open('./Vectors/forest_needleleaf/'+files, 'r') as f:\n",
    "        for line in f:\n",
    "            vectors = line.split(',')\n",
    "            vectors = [float(i) for i in vectors]\n",
    "            # print(vectors)\n",
    "            REALIMAGES[0].append(vectors)\n",
    "            \n",
    "for files in os.listdir('./Vectors/ice_cream_parlor'):\n",
    "    with open('./Vectors/ice_cream_parlor/'+files, 'r') as f:\n",
    "        for line in f:\n",
    "            vectors = line.split(',')\n",
    "            vectors = [float(i) for i in vectors]\n",
    "            # print(vectors)\n",
    "            REALIMAGES[1].append(vectors)\n",
    "            \n",
    "for files in os.listdir('./Vectors/pond'):\n",
    "    with open('./Vectors/pond/'+files, 'r') as f:\n",
    "        for line in f:\n",
    "            vectors = line.split(',')\n",
    "            vectors = [float(i) for i in vectors]\n",
    "            # print(vectors)\n",
    "            REALIMAGES[2].append(vectors)\n",
    "    "
   ]
  },
  {
   "cell_type": "code",
   "execution_count": 3,
   "metadata": {},
   "outputs": [
    {
     "name": "stdout",
     "output_type": "stream",
     "text": [
      "82440\n"
     ]
    }
   ],
   "source": [
    "print(len(REALIMAGES[2]))"
   ]
  },
  {
   "cell_type": "code",
   "execution_count": 4,
   "metadata": {},
   "outputs": [
    {
     "name": "stdout",
     "output_type": "stream",
     "text": [
      "22581\n"
     ]
    }
   ],
   "source": [
    "print(len(REALIMAGES[0]))"
   ]
  },
  {
   "cell_type": "code",
   "execution_count": 5,
   "metadata": {},
   "outputs": [],
   "source": [
    "# convert each image to a 23 dimentional vector\n",
    "REALIMAGES_BVW_Test=[[],[],[]]\n",
    "\n",
    "import os\n",
    "for files in os.listdir('./VectorsTest/forest_needleleaf'):\n",
    "    with open('./VectorsTest/forest_needleleaf/'+files, 'r') as f:\n",
    "        image=[]\n",
    "        for line in f:\n",
    "            vectors = line.split(',')\n",
    "            vectors = [float(i) for i in vectors]\n",
    "            image.append(vectors)\n",
    "        REALIMAGES_BVW_Test[0].append(image)\n",
    "            \n",
    "for files in os.listdir('./VectorsTest/ice_cream_parlor'):\n",
    "    with open('./VectorsTest/ice_cream_parlor/'+files, 'r') as f:\n",
    "        image=[]\n",
    "        for line in f:\n",
    "            vectors = line.split(',')\n",
    "            vectors = [float(i) for i in vectors]\n",
    "            image.append(vectors)\n",
    "        REALIMAGES_BVW_Test[1].append(image)\n",
    "            \n",
    "for files in os.listdir('./VectorsTest/pond'):\n",
    "    with open('./VectorsTest/pond/'+files, 'r') as f:\n",
    "        image=[]\n",
    "        for line in f:\n",
    "            vectors = line.split(',')\n",
    "            vectors = [float(i) for i in vectors]\n",
    "            image.append(vectors)\n",
    "        REALIMAGES_BVW_Test[2].append(image)"
   ]
  },
  {
   "cell_type": "code",
   "execution_count": 6,
   "metadata": {},
   "outputs": [],
   "source": [
    "from GMM import *\n",
    "model = Bayes_Classifier_GMM(2)"
   ]
  },
  {
   "cell_type": "code",
   "execution_count": 9,
   "metadata": {},
   "outputs": [
    {
     "name": "stdout",
     "output_type": "stream",
     "text": [
      "data (22581, 24)\n",
      "gmm done\n",
      "data (27581, 24)\n",
      "gmm done\n",
      "data (82440, 24)\n",
      "gmm done\n"
     ]
    }
   ],
   "source": [
    "likelihood=model.train(REALIMAGES,max_itr=1)"
   ]
  },
  {
   "cell_type": "code",
   "execution_count": 10,
   "metadata": {},
   "outputs": [
    {
     "data": {
      "image/png": "[encoded data removed]",
      "text/plain": [
       "<Figure size 432x288 with 1 Axes>"
      ]
     },
     "metadata": {
      "needs_background": "light"
     },
     "output_type": "display_data"
    },
    {
     "data": {
      "image/png": "[encoded data removed]",
      "text/plain": [
       "<Figure size 432x288 with 1 Axes>"
      ]
     },
     "metadata": {
      "needs_background": "light"
     },
     "output_type": "display_data"
    },
    {
     "data": {
      "image/png": "[encoded data removed]",
      "text/plain": [
       "<Figure size 432x288 with 1 Axes>"
      ]
     },
     "metadata": {
      "needs_background": "light"
     },
     "output_type": "display_data"
    }
   ],
   "source": [
    "for l in likelihood:\n",
    "    plt.plot([i for i in range(1,len(l)+1)],[L for L in l])\n",
    "    plt.xlabel(\"no of iteration\")\n",
    "    plt.ylabel(\"Total data likelihood\")\n",
    "    plt.show()"
   ]
  },
  {
   "cell_type": "code",
   "execution_count": null,
   "metadata": {},
   "outputs": [],
   "source": []
  },
  {
   "cell_type": "code",
   "execution_count": 11,
   "metadata": {},
   "outputs": [
    {
     "name": "stdout",
     "output_type": "stream",
     "text": [
      "[138.0, 208.0, 662.0, 16.0, 0.0, 0.0, 0.0, 0.0, 56.0, 187.0, 144.0, 455.0, 182.0, 0.0, 0.0, 0.0, 82.0, 114.0, 91.0, 94.0, 114.0, 355.0, 174.0, 0.0]\n"
     ]
    }
   ],
   "source": [
    "print(REALIMAGES_BVW_Test[0][0][0])"
   ]
  },
  {
   "cell_type": "code",
   "execution_count": 12,
   "metadata": {},
   "outputs": [],
   "source": [
    "def predictVectors(self,vectors):\n",
    "    max_probability=-100000000\n",
    "    which_class=0\n",
    "    for i in range(self.num_of_classes):\n",
    "        AllVectorsProbability=1\n",
    "        for vector in vectors:                \n",
    "            probability=0\n",
    "            for j in range(self.classes[i].num_of_clusters):\n",
    "                if(np.linalg.det(self.classes[i].clusters[j].covariance)==0):\n",
    "                    continue\n",
    "                probability+=self.classes[i].clusters[j].weight*multivariate_normal_pdf(vector,self.classes[i].clusters[j].mean,self.classes[i].clusters[j].covariance,allow_singular=True)\n",
    "            AllVectorsProbability+=np.log(probability)\n",
    "        # print(AllVectorsProbability)\n",
    "        # AllVectorsProbability = abs(AllVectorsProbability)\n",
    "        if AllVectorsProbability>max_probability:\n",
    "            max_probability=AllVectorsProbability\n",
    "            which_class=i\n",
    "        # print(max_probability)\n",
    "    return which_class"
   ]
  },
  {
   "cell_type": "code",
   "execution_count": 13,
   "metadata": {},
   "outputs": [],
   "source": [
    "def test(self,classes_test_data,predictVectors):\n",
    "    confusion=confusion_matrix(np.zeros((self.num_of_classes,self.num_of_classes)))\n",
    "    \n",
    "    for i in range(len(classes_test_data)):\n",
    "        for point in classes_test_data[i]:\n",
    "            predicted = predictVectors(self,point)\n",
    "            confusion.fill(i, predicted)\n",
    "            print(\"Predicted class: \",predicted,\" Actual class: \",i)\n",
    "    return confusion"
   ]
  },
  {
   "cell_type": "code",
   "execution_count": 14,
   "metadata": {},
   "outputs": [
    {
     "name": "stdout",
     "output_type": "stream",
     "text": [
      "2\n"
     ]
    }
   ],
   "source": [
    "print(predictVectors(model,REALIMAGES_BVW_Test[2][3]))"
   ]
  },
  {
   "cell_type": "code",
   "execution_count": 15,
   "metadata": {},
   "outputs": [
    {
     "name": "stdout",
     "output_type": "stream",
     "text": [
      "Predicted class:  0  Actual class:  0\n",
      "Predicted class:  0  Actual class:  0\n",
      "Predicted class:  2  Actual class:  0\n",
      "Predicted class:  0  Actual class:  0\n",
      "Predicted class:  0  Actual class:  0\n",
      "Predicted class:  0  Actual class:  0\n",
      "Predicted class:  0  Actual class:  0\n",
      "Predicted class:  0  Actual class:  0\n",
      "Predicted class:  0  Actual class:  0\n",
      "Predicted class:  0  Actual class:  0\n",
      "Predicted class:  0  Actual class:  0\n",
      "Predicted class:  0  Actual class:  0\n",
      "Predicted class:  2  Actual class:  0\n",
      "Predicted class:  2  Actual class:  0\n",
      "Predicted class:  0  Actual class:  0\n",
      "Predicted class:  0  Actual class:  0\n",
      "Predicted class:  0  Actual class:  0\n",
      "Predicted class:  2  Actual class:  0\n",
      "Predicted class:  0  Actual class:  0\n",
      "Predicted class:  0  Actual class:  0\n",
      "Predicted class:  0  Actual class:  0\n",
      "Predicted class:  0  Actual class:  0\n",
      "Predicted class:  0  Actual class:  0\n",
      "Predicted class:  2  Actual class:  0\n",
      "Predicted class:  2  Actual class:  0\n",
      "Predicted class:  0  Actual class:  0\n",
      "Predicted class:  0  Actual class:  0\n",
      "Predicted class:  0  Actual class:  0\n",
      "Predicted class:  0  Actual class:  0\n",
      "Predicted class:  1  Actual class:  0\n",
      "Predicted class:  1  Actual class:  0\n",
      "Predicted class:  2  Actual class:  0\n",
      "Predicted class:  2  Actual class:  0\n",
      "Predicted class:  0  Actual class:  0\n",
      "Predicted class:  0  Actual class:  0\n",
      "Predicted class:  2  Actual class:  0\n",
      "Predicted class:  0  Actual class:  0\n",
      "Predicted class:  2  Actual class:  0\n",
      "Predicted class:  0  Actual class:  0\n",
      "Predicted class:  0  Actual class:  0\n",
      "Predicted class:  0  Actual class:  0\n",
      "Predicted class:  0  Actual class:  0\n",
      "Predicted class:  0  Actual class:  0\n",
      "Predicted class:  2  Actual class:  0\n",
      "Predicted class:  0  Actual class:  0\n",
      "Predicted class:  0  Actual class:  0\n",
      "Predicted class:  2  Actual class:  0\n",
      "Predicted class:  1  Actual class:  0\n",
      "Predicted class:  0  Actual class:  0\n",
      "Predicted class:  0  Actual class:  0\n",
      "Predicted class:  1  Actual class:  1\n",
      "Predicted class:  1  Actual class:  1\n",
      "Predicted class:  1  Actual class:  1\n"
     ]
    },
    {
     "name": "stderr",
     "output_type": "stream",
     "text": [
      "C:\\Users\\Vaibhav\\AppData\\Local\\Temp\\ipykernel_3680\\3413831072.py:12: RuntimeWarning: divide by zero encountered in log\n",
      "  AllVectorsProbability+=np.log(probability)\n"
     ]
    },
    {
     "name": "stdout",
     "output_type": "stream",
     "text": [
      "Predicted class:  1  Actual class:  1\n",
      "Predicted class:  1  Actual class:  1\n",
      "Predicted class:  1  Actual class:  1\n",
      "Predicted class:  1  Actual class:  1\n",
      "Predicted class:  1  Actual class:  1\n",
      "Predicted class:  1  Actual class:  1\n",
      "Predicted class:  1  Actual class:  1\n",
      "Predicted class:  1  Actual class:  1\n",
      "Predicted class:  0  Actual class:  1\n",
      "Predicted class:  1  Actual class:  1\n",
      "Predicted class:  1  Actual class:  1\n",
      "Predicted class:  1  Actual class:  1\n",
      "Predicted class:  0  Actual class:  1\n",
      "Predicted class:  1  Actual class:  1\n",
      "Predicted class:  1  Actual class:  1\n",
      "Predicted class:  1  Actual class:  1\n",
      "Predicted class:  2  Actual class:  1\n",
      "Predicted class:  1  Actual class:  1\n",
      "Predicted class:  2  Actual class:  1\n",
      "Predicted class:  1  Actual class:  1\n",
      "Predicted class:  1  Actual class:  1\n",
      "Predicted class:  1  Actual class:  1\n",
      "Predicted class:  0  Actual class:  1\n",
      "Predicted class:  1  Actual class:  1\n",
      "Predicted class:  1  Actual class:  1\n",
      "Predicted class:  1  Actual class:  1\n",
      "Predicted class:  1  Actual class:  1\n",
      "Predicted class:  1  Actual class:  1\n",
      "Predicted class:  1  Actual class:  1\n",
      "Predicted class:  1  Actual class:  1\n",
      "Predicted class:  1  Actual class:  1\n",
      "Predicted class:  0  Actual class:  1\n",
      "Predicted class:  1  Actual class:  1\n",
      "Predicted class:  1  Actual class:  1\n",
      "Predicted class:  1  Actual class:  1\n",
      "Predicted class:  1  Actual class:  1\n",
      "Predicted class:  1  Actual class:  1\n",
      "Predicted class:  2  Actual class:  1\n",
      "Predicted class:  1  Actual class:  1\n",
      "Predicted class:  1  Actual class:  1\n",
      "Predicted class:  0  Actual class:  1\n",
      "Predicted class:  1  Actual class:  1\n",
      "Predicted class:  1  Actual class:  1\n",
      "Predicted class:  1  Actual class:  1\n",
      "Predicted class:  1  Actual class:  1\n",
      "Predicted class:  1  Actual class:  1\n",
      "Predicted class:  1  Actual class:  1\n",
      "Predicted class:  0  Actual class:  2\n",
      "Predicted class:  2  Actual class:  2\n",
      "Predicted class:  2  Actual class:  2\n",
      "Predicted class:  2  Actual class:  2\n",
      "Predicted class:  2  Actual class:  2\n",
      "Predicted class:  2  Actual class:  2\n",
      "Predicted class:  2  Actual class:  2\n",
      "Predicted class:  2  Actual class:  2\n",
      "Predicted class:  2  Actual class:  2\n",
      "Predicted class:  2  Actual class:  2\n",
      "Predicted class:  2  Actual class:  2\n",
      "Predicted class:  2  Actual class:  2\n",
      "Predicted class:  0  Actual class:  2\n",
      "Predicted class:  2  Actual class:  2\n",
      "Predicted class:  0  Actual class:  2\n",
      "Predicted class:  2  Actual class:  2\n",
      "Predicted class:  2  Actual class:  2\n",
      "Predicted class:  0  Actual class:  2\n",
      "Predicted class:  2  Actual class:  2\n",
      "Predicted class:  1  Actual class:  2\n",
      "Predicted class:  2  Actual class:  2\n",
      "Predicted class:  2  Actual class:  2\n",
      "Predicted class:  2  Actual class:  2\n",
      "Predicted class:  2  Actual class:  2\n",
      "Predicted class:  2  Actual class:  2\n",
      "Predicted class:  2  Actual class:  2\n",
      "Predicted class:  1  Actual class:  2\n",
      "Predicted class:  0  Actual class:  2\n",
      "Predicted class:  2  Actual class:  2\n",
      "Predicted class:  0  Actual class:  2\n",
      "Predicted class:  2  Actual class:  2\n",
      "Predicted class:  2  Actual class:  2\n",
      "Predicted class:  0  Actual class:  2\n",
      "Predicted class:  0  Actual class:  2\n",
      "Predicted class:  2  Actual class:  2\n",
      "Predicted class:  0  Actual class:  2\n",
      "Predicted class:  2  Actual class:  2\n",
      "Predicted class:  2  Actual class:  2\n",
      "Predicted class:  2  Actual class:  2\n",
      "Predicted class:  2  Actual class:  2\n",
      "Predicted class:  2  Actual class:  2\n",
      "Predicted class:  2  Actual class:  2\n",
      "Predicted class:  0  Actual class:  2\n",
      "Predicted class:  2  Actual class:  2\n",
      "Predicted class:  2  Actual class:  2\n",
      "Predicted class:  2  Actual class:  2\n",
      "Predicted class:  2  Actual class:  2\n",
      "Predicted class:  2  Actual class:  2\n",
      "Predicted class:  0  Actual class:  2\n",
      "Predicted class:  2  Actual class:  2\n"
     ]
    }
   ],
   "source": [
    "confusion = test(model,REALIMAGES_BVW_Test,predictVectors)"
   ]
  },
  {
   "cell_type": "code",
   "execution_count": 16,
   "metadata": {},
   "outputs": [
    {
     "name": "stdout",
     "output_type": "stream",
     "text": [
      "confusion matrix: \n",
      "[[35.  3. 12.]\n",
      " [ 5. 42.  3.]\n",
      " [11.  2. 37.]]\n",
      "accuracy:  0.76\n",
      "precision:  [0.6862745098039216, 0.8936170212765957, 0.7115384615384616]\n",
      "recall:  [0.7, 0.84, 0.74]\n",
      "f1_score:  [0.693069306930693, 0.8659793814432989, 0.7254901960784313]\n"
     ]
    }
   ],
   "source": [
    "confusion.print()"
   ]
  },
  {
   "cell_type": "code",
   "execution_count": null,
   "metadata": {},
   "outputs": [],
   "source": []
  }
 ],
 "metadata": {
  "kernelspec": {
   "display_name": "Python 3",
   "language": "python",
   "name": "python3"
  },
  "language_info": {
   "codemirror_mode": {
    "name": "ipython",
    "version": 3
   },
   "file_extension": ".py",
   "mimetype": "text/x-python",
   "name": "python",
   "nbconvert_exporter": "python",
   "pygments_lexer": "ipython3",
   "version": "3.9.1"
  }
 },
 "nbformat": 4,
 "nbformat_minor": 2
}
