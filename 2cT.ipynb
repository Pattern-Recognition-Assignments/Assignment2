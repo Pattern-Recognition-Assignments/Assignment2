{
 "cells": [
  {
   "cell_type": "code",
   "execution_count": 8,
   "metadata": {},
   "outputs": [],
   "source": [
    "import numpy as np\n",
    "\n",
    "# patches of size n*n\n",
    "n=7\n",
    "\n",
    "def mean_cov(patch):\n",
    "    mean = np.mean(patch)\n",
    "    var = np.var(patch)\n",
    "    return np.array([mean,var])\n",
    "\n",
    "# getting consecuitve pathces of n*n from im\n",
    "def get_patches(im):\n",
    "    px = im.load()\n",
    "    patches = []\n",
    "    for i in range(0,  im.size[0] - n):\n",
    "        for j in range(0, im.size[1] - n):\n",
    "            patch = []\n",
    "            for k in range(i, i + n):\n",
    "                for l in range(j, j + n):\n",
    "                    patch.append(px[k, l])\n",
    "            patches.append(mean_cov(patch))\n",
    "    return patches\n",
    "\n",
    "\n",
    "import random\n",
    "import numpy as np  # Import the numpy library for np.mean and np.var\n",
    "\n",
    "\n",
    "\n",
    "# -*- coding: utf-8 -*-\n",
    "\"\"\"\n",
    "Spyder Editor\n",
    "\n",
    "This is a temporary script file.\n",
    "\"\"\"\n",
    "# importing required modules\n",
    "\n",
    "import numpy as np\n",
    "#import matplotlib.pyplot as plt\n",
    "import random\n",
    "import math\n",
    "\n",
    "# K- MEANS CLUSTERING\n",
    "\n",
    "# initialization of  mean i.e choose random centeroids\n",
    "\n",
    "def initilization(data, n_components):\n",
    "    \"\"\"\n",
    "    parameter : \n",
    "        data -> class_data in numpy array format\n",
    "         n_components   -> Number of cluster\n",
    "    -----------------------------\n",
    "    return  : initial center for k_mean clustering in list format\n",
    "    \n",
    "    \"\"\"\n",
    "    np.random.seed(0)\n",
    "   \n",
    "    i_mean = []\n",
    "    i=1\n",
    "    while i < n_components+1:\n",
    "        a = random.choice(data)\n",
    "        i_mean.append(a.tolist())\n",
    "        #i_mean.append(a)\n",
    "        i += 1\n",
    "    \n",
    "    #print(\"---  ----  ---  initial\",i_mean)\n",
    "    #print(\"@@@@@@@\")\n",
    "    return i_mean\n",
    "\n",
    "\n",
    "# distance between each point and center\n",
    "\n",
    "def point_assignment_to_cluster(data , initial_mean, n_components):\n",
    "    \"\"\"\n",
    "    parameters : \n",
    "        data -> class_data in numpy array format\n",
    "         n_components   ->  Number of cluster\n",
    "        initial_mean -> initialization function output i.e. initial mean\n",
    "    \n",
    "    return : list containing lists and each inner list contained data_points belonging to corresponding cluster\n",
    "             \n",
    "    \n",
    "    \"\"\"\n",
    "    \n",
    "    # k empty lists\n",
    "    l = [[] for i in range(n_components)]\n",
    "    # print(l[1])\n",
    "\n",
    "    for i in data:\n",
    "        #print(\"    for \",i,\" in data     \")\n",
    "        lst = []\n",
    "        for j in initial_mean:\n",
    "            #print(\"    for  \",j,\"in initial_mean     \")\n",
    "            d = np.sqrt((i[0]-j[0])**2 +(i[1]-j[1])**2)\n",
    "           # print(\"distance.......\",d)\n",
    "            lst.append(d) # [d1,d2,d3....dk]\n",
    "        #print(\"distance list--------\",lst)\n",
    "        dist_list = np.array(lst)  \n",
    "        z = dist_list.argmin()\n",
    "        #l[z].append(i.tolist())\n",
    "        l[z].append(i)\n",
    "    #print(\"function ending\")\n",
    "    return l\n",
    "\n",
    "def updated_mean(l):\n",
    "    \"\"\"\n",
    "    parameter : output of point_assignment_to_cluster function\n",
    "    --------------------------\n",
    "    return  : updated mean  (list)\n",
    "    \n",
    "    calculate mean of each list contained in main list\n",
    "    \"\"\"\n",
    "    #print(\"update mean started and l is \",l)\n",
    "    up_mea =[]\n",
    "    for i in range(len(l)):\n",
    "        sum1=0\n",
    "        sum2 =0\n",
    "        for j in range(len(l[i])):\n",
    "            #if len(l[i])!=0:               # ----------??????????????????????-----------\n",
    "            sum1 += l[i][j][0]\n",
    "            sum2 += l[i][j][1]\n",
    "        if len(l[i])!=0:\n",
    "            sum1 = sum1/len(l[i])\n",
    "            sum2 = sum2 /len(l[i])\n",
    "        up_mea.append([sum1,sum2])\n",
    "        \n",
    "    return up_mea\n",
    "\n",
    "def  k_means(data , n_components):\n",
    "    \"\"\"\n",
    "    final k_mean function \n",
    "    parameters: \n",
    "        data -> class_data in numpy array format\n",
    "         n_components   -> Number of cluster\n",
    "    --------------------------\n",
    "    return :\n",
    "        centroids i.e mean_vector i.e mean of each cluster (list containing mean vector whose dimension is same as number of\n",
    "           features)\n",
    "        p -> list containing lists and each inner list contained data_points belonging to a corresponding updated_cluster\n",
    "    \"\"\"\n",
    "\n",
    "    # initialization of  mean\n",
    "    ini_mean = initilization(data, n_components)\n",
    "    \n",
    "    # number of iterations\n",
    "    iters=10\n",
    "    \n",
    "    j = 0\n",
    "    while j < iters:\n",
    "        \n",
    "        if j == 0 :\n",
    "            latest_mean = ini_mean\n",
    "        else:\n",
    "            pass\n",
    "            #latest_mean = center\n",
    "        p = point_assignment_to_cluster(data, latest_mean, n_components)\n",
    "        #print(\"()()()()()()()      points   ()()()()()()()  \", p)\n",
    "        #print(\"()()()()()()()      points   ()()()()()()()\"  )\n",
    "\n",
    "        #print(p)\n",
    "        center = updated_mean(p)\n",
    "        #print(\">>>>>>>\", center)\n",
    "        latest_mean = center\n",
    "\n",
    "        #ini_mean = center\n",
    "        #print(ini_mean)\n",
    "        j += 1\n",
    "        \n",
    "        print(\"center\",center)\n",
    "\n",
    "    return center , p"
   ]
  },
  {
   "cell_type": "code",
   "execution_count": 9,
   "metadata": {},
   "outputs": [
    {
     "name": "stdout",
     "output_type": "stream",
     "text": [
      "Number of images: 2\n"
     ]
    }
   ],
   "source": [
    "# reading all the images\n",
    "import os\n",
    "from PIL import Image\n",
    "path = \"./2c/Train/\"\n",
    "images = []\n",
    "maxImages=1\n",
    "for filename in os.listdir(path):\n",
    "    im = Image.open(path + filename)\n",
    "    images.append(im)\n",
    "    maxImages-=1\n",
    "    if(maxImages<0):\n",
    "        break\n",
    "print(\"Number of images:\", len(images))"
   ]
  },
  {
   "cell_type": "code",
   "execution_count": 10,
   "metadata": {},
   "outputs": [
    {
     "name": "stdout",
     "output_type": "stream",
     "text": [
      "Number of patches: 510050\n"
     ]
    }
   ],
   "source": [
    "# getting path data of each image\n",
    "data = []\n",
    "for i in range(len(images)):\n",
    "    patches = get_patches(images[i])\n",
    "    data += patches\n",
    "print(\"Number of patches:\", len(data))\n"
   ]
  },
  {
   "cell_type": "code",
   "execution_count": 11,
   "metadata": {},
   "outputs": [
    {
     "name": "stdout",
     "output_type": "stream",
     "text": [
      "center [[228.18215497967105, 17.425828830610765], [228.87652502142464, 3.631317489093617], [178.95342059238894, 70.84435960974393]]\n",
      "center [[207.48968452898217, 19.40984991507588], [226.5583110765981, 5.036501051819073], [177.82390485817385, 162.2358995083757]]\n",
      "center [[185.86852581306886, 21.980216059182943], [228.8207878975212, 5.354075675611098], [185.86854141791187, 300.9026043751276]]\n",
      "center [[182.8036026330964, 31.502351286419817], [228.62965943865944, 5.764980571263276], [183.4961267905471, 395.6268283682211]]\n",
      "center [[181.9608538320407, 40.13716573654751], [228.26121812524534, 5.72480807075361], [180.93614996063397, 451.74660363123485]]\n",
      "center [[181.0234217894418, 46.48522427107755], [227.847693130041, 5.727016815785436], [179.91939195760585, 480.89065768912576]]\n",
      "center [[180.00906479870974, 51.9968002125777], [227.36775347421323, 5.77680978197646], [179.5899536925339, 495.9911537365068]]\n",
      "center [[179.14292462577524, 57.60554871858198], [226.8460199490355, 5.844401192151962], [179.48167888370705, 505.311772730287]]\n",
      "center [[178.50126552892496, 64.0091608138044], [226.26079569163986, 5.931702164573063], [179.46742933836046, 511.44720084336365]]\n",
      "center [[178.46287239215806, 73.5371991455318], [225.47860308091933, 6.042398213863997], [179.44155759284445, 516.5642720725148]]\n"
     ]
    }
   ],
   "source": [
    "center,p=k_means(data,3)"
   ]
  },
  {
   "cell_type": "code",
   "execution_count": 12,
   "metadata": {},
   "outputs": [
    {
     "name": "stdout",
     "output_type": "stream",
     "text": [
      "[[178.46287239215806, 73.5371991455318], [225.47860308091933, 6.042398213863997], [179.44155759284445, 516.5642720725148]]\n"
     ]
    }
   ],
   "source": [
    "print(center)"
   ]
  },
  {
   "cell_type": "code",
   "execution_count": 13,
   "metadata": {},
   "outputs": [],
   "source": [
    "def Euclidean_distance(x,y):\n",
    "    return np.sqrt(np.sum((x-y)**2))"
   ]
  },
  {
   "cell_type": "code",
   "execution_count": 15,
   "metadata": {},
   "outputs": [
    {
     "ename": "KeyboardInterrupt",
     "evalue": "",
     "output_type": "error",
     "traceback": [
      "\u001b[1;31m---------------------------------------------------------------------------\u001b[0m",
      "\u001b[1;31mKeyboardInterrupt\u001b[0m                         Traceback (most recent call last)",
      "\u001b[1;32mc:\\Users\\Vaibhav\\Desktop\\vaibhav programming\\Mtech_sem1\\Pattern Recognition\\Assignment2\\2cT.ipynb Cell 7\u001b[0m line \u001b[0;36m<cell line: 3>\u001b[1;34m()\u001b[0m\n\u001b[0;32m      <a href='vscode-notebook-cell:/c%3A/Users/Vaibhav/Desktop/vaibhav%20programming/Mtech_sem1/Pattern%20Recognition/Assignment2/2cT.ipynb#X10sZmlsZQ%3D%3D?line=2'>3</a>\u001b[0m \u001b[39mfor\u001b[39;00m i \u001b[39min\u001b[39;00m \u001b[39mrange\u001b[39m(\u001b[39mlen\u001b[39m(p)):\n\u001b[0;32m      <a href='vscode-notebook-cell:/c%3A/Users/Vaibhav/Desktop/vaibhav%20programming/Mtech_sem1/Pattern%20Recognition/Assignment2/2cT.ipynb#X10sZmlsZQ%3D%3D?line=3'>4</a>\u001b[0m     \u001b[39mfor\u001b[39;00m j \u001b[39min\u001b[39;00m \u001b[39mrange\u001b[39m(\u001b[39mlen\u001b[39m(p[i])):\n\u001b[1;32m----> <a href='vscode-notebook-cell:/c%3A/Users/Vaibhav/Desktop/vaibhav%20programming/Mtech_sem1/Pattern%20Recognition/Assignment2/2cT.ipynb#X10sZmlsZQ%3D%3D?line=4'>5</a>\u001b[0m         plt\u001b[39m.\u001b[39;49mscatter(p[i][j][\u001b[39m0\u001b[39;49m],p[i][j][\u001b[39m1\u001b[39;49m],color\u001b[39m=\u001b[39;49m\u001b[39m'\u001b[39;49m\u001b[39mred\u001b[39;49m\u001b[39m'\u001b[39;49m)\n",
      "File \u001b[1;32mc:\\Users\\Vaibhav\\AppData\\Local\\Programs\\Python\\Python39\\lib\\site-packages\\matplotlib\\pyplot.py:2807\u001b[0m, in \u001b[0;36mscatter\u001b[1;34m(x, y, s, c, marker, cmap, norm, vmin, vmax, alpha, linewidths, edgecolors, plotnonfinite, data, **kwargs)\u001b[0m\n\u001b[0;32m   2802\u001b[0m \u001b[39m@_copy_docstring_and_deprecators\u001b[39m(Axes\u001b[39m.\u001b[39mscatter)\n\u001b[0;32m   2803\u001b[0m \u001b[39mdef\u001b[39;00m \u001b[39mscatter\u001b[39m(\n\u001b[0;32m   2804\u001b[0m         x, y, s\u001b[39m=\u001b[39m\u001b[39mNone\u001b[39;00m, c\u001b[39m=\u001b[39m\u001b[39mNone\u001b[39;00m, marker\u001b[39m=\u001b[39m\u001b[39mNone\u001b[39;00m, cmap\u001b[39m=\u001b[39m\u001b[39mNone\u001b[39;00m, norm\u001b[39m=\u001b[39m\u001b[39mNone\u001b[39;00m,\n\u001b[0;32m   2805\u001b[0m         vmin\u001b[39m=\u001b[39m\u001b[39mNone\u001b[39;00m, vmax\u001b[39m=\u001b[39m\u001b[39mNone\u001b[39;00m, alpha\u001b[39m=\u001b[39m\u001b[39mNone\u001b[39;00m, linewidths\u001b[39m=\u001b[39m\u001b[39mNone\u001b[39;00m, \u001b[39m*\u001b[39m,\n\u001b[0;32m   2806\u001b[0m         edgecolors\u001b[39m=\u001b[39m\u001b[39mNone\u001b[39;00m, plotnonfinite\u001b[39m=\u001b[39m\u001b[39mFalse\u001b[39;00m, data\u001b[39m=\u001b[39m\u001b[39mNone\u001b[39;00m, \u001b[39m*\u001b[39m\u001b[39m*\u001b[39mkwargs):\n\u001b[1;32m-> 2807\u001b[0m     __ret \u001b[39m=\u001b[39m gca()\u001b[39m.\u001b[39mscatter(\n\u001b[0;32m   2808\u001b[0m         x, y, s\u001b[39m=\u001b[39ms, c\u001b[39m=\u001b[39mc, marker\u001b[39m=\u001b[39mmarker, cmap\u001b[39m=\u001b[39mcmap, norm\u001b[39m=\u001b[39mnorm,\n\u001b[0;32m   2809\u001b[0m         vmin\u001b[39m=\u001b[39mvmin, vmax\u001b[39m=\u001b[39mvmax, alpha\u001b[39m=\u001b[39malpha, linewidths\u001b[39m=\u001b[39mlinewidths,\n\u001b[0;32m   2810\u001b[0m         edgecolors\u001b[39m=\u001b[39medgecolors, plotnonfinite\u001b[39m=\u001b[39mplotnonfinite,\n\u001b[0;32m   2811\u001b[0m         \u001b[39m*\u001b[39m\u001b[39m*\u001b[39m({\u001b[39m\"\u001b[39m\u001b[39mdata\u001b[39m\u001b[39m\"\u001b[39m: data} \u001b[39mif\u001b[39;00m data \u001b[39mis\u001b[39;00m \u001b[39mnot\u001b[39;00m \u001b[39mNone\u001b[39;00m \u001b[39melse\u001b[39;00m {}), \u001b[39m*\u001b[39m\u001b[39m*\u001b[39mkwargs)\n\u001b[0;32m   2812\u001b[0m     sci(__ret)\n\u001b[0;32m   2813\u001b[0m     \u001b[39mreturn\u001b[39;00m __ret\n",
      "File \u001b[1;32mc:\\Users\\Vaibhav\\AppData\\Local\\Programs\\Python\\Python39\\lib\\site-packages\\matplotlib\\__init__.py:1412\u001b[0m, in \u001b[0;36m_preprocess_data.<locals>.inner\u001b[1;34m(ax, data, *args, **kwargs)\u001b[0m\n\u001b[0;32m   1409\u001b[0m \u001b[39m@functools\u001b[39m\u001b[39m.\u001b[39mwraps(func)\n\u001b[0;32m   1410\u001b[0m \u001b[39mdef\u001b[39;00m \u001b[39minner\u001b[39m(ax, \u001b[39m*\u001b[39margs, data\u001b[39m=\u001b[39m\u001b[39mNone\u001b[39;00m, \u001b[39m*\u001b[39m\u001b[39m*\u001b[39mkwargs):\n\u001b[0;32m   1411\u001b[0m     \u001b[39mif\u001b[39;00m data \u001b[39mis\u001b[39;00m \u001b[39mNone\u001b[39;00m:\n\u001b[1;32m-> 1412\u001b[0m         \u001b[39mreturn\u001b[39;00m func(ax, \u001b[39m*\u001b[39m\u001b[39mmap\u001b[39m(sanitize_sequence, args), \u001b[39m*\u001b[39m\u001b[39m*\u001b[39mkwargs)\n\u001b[0;32m   1414\u001b[0m     bound \u001b[39m=\u001b[39m new_sig\u001b[39m.\u001b[39mbind(ax, \u001b[39m*\u001b[39margs, \u001b[39m*\u001b[39m\u001b[39m*\u001b[39mkwargs)\n\u001b[0;32m   1415\u001b[0m     auto_label \u001b[39m=\u001b[39m (bound\u001b[39m.\u001b[39marguments\u001b[39m.\u001b[39mget(label_namer)\n\u001b[0;32m   1416\u001b[0m                   \u001b[39mor\u001b[39;00m bound\u001b[39m.\u001b[39mkwargs\u001b[39m.\u001b[39mget(label_namer))\n",
      "File \u001b[1;32mc:\\Users\\Vaibhav\\AppData\\Local\\Programs\\Python\\Python39\\lib\\site-packages\\matplotlib\\axes\\_axes.py:4487\u001b[0m, in \u001b[0;36mAxes.scatter\u001b[1;34m(self, x, y, s, c, marker, cmap, norm, vmin, vmax, alpha, linewidths, edgecolors, plotnonfinite, **kwargs)\u001b[0m\n\u001b[0;32m   4484\u001b[0m     \u001b[39mif\u001b[39;00m \u001b[39mself\u001b[39m\u001b[39m.\u001b[39m_ymargin \u001b[39m<\u001b[39m \u001b[39m0.05\u001b[39m \u001b[39mand\u001b[39;00m x\u001b[39m.\u001b[39msize \u001b[39m>\u001b[39m \u001b[39m0\u001b[39m:\n\u001b[0;32m   4485\u001b[0m         \u001b[39mself\u001b[39m\u001b[39m.\u001b[39mset_ymargin(\u001b[39m0.05\u001b[39m)\n\u001b[1;32m-> 4487\u001b[0m \u001b[39mself\u001b[39;49m\u001b[39m.\u001b[39;49madd_collection(collection)\n\u001b[0;32m   4488\u001b[0m \u001b[39mself\u001b[39m\u001b[39m.\u001b[39m_request_autoscale_view()\n\u001b[0;32m   4490\u001b[0m \u001b[39mreturn\u001b[39;00m collection\n",
      "File \u001b[1;32mc:\\Users\\Vaibhav\\AppData\\Local\\Programs\\Python\\Python39\\lib\\site-packages\\matplotlib\\axes\\_base.py:2242\u001b[0m, in \u001b[0;36m_AxesBase.add_collection\u001b[1;34m(self, collection, autolim)\u001b[0m\n\u001b[0;32m   2237\u001b[0m     collection\u001b[39m.\u001b[39mset_clip_path(\u001b[39mself\u001b[39m\u001b[39m.\u001b[39mpatch)\n\u001b[0;32m   2239\u001b[0m \u001b[39mif\u001b[39;00m autolim:\n\u001b[0;32m   2240\u001b[0m     \u001b[39m# Make sure viewLim is not stale (mostly to match\u001b[39;00m\n\u001b[0;32m   2241\u001b[0m     \u001b[39m# pre-lazy-autoscale behavior, which is not really better).\u001b[39;00m\n\u001b[1;32m-> 2242\u001b[0m     \u001b[39mself\u001b[39;49m\u001b[39m.\u001b[39;49m_unstale_viewLim()\n\u001b[0;32m   2243\u001b[0m     datalim \u001b[39m=\u001b[39m collection\u001b[39m.\u001b[39mget_datalim(\u001b[39mself\u001b[39m\u001b[39m.\u001b[39mtransData)\n\u001b[0;32m   2244\u001b[0m     points \u001b[39m=\u001b[39m datalim\u001b[39m.\u001b[39mget_points()\n",
      "File \u001b[1;32mc:\\Users\\Vaibhav\\AppData\\Local\\Programs\\Python\\Python39\\lib\\site-packages\\matplotlib\\axes\\_base.py:776\u001b[0m, in \u001b[0;36m_AxesBase._unstale_viewLim\u001b[1;34m(self)\u001b[0m\n\u001b[0;32m    774\u001b[0m     \u001b[39mfor\u001b[39;00m ax \u001b[39min\u001b[39;00m \u001b[39mself\u001b[39m\u001b[39m.\u001b[39m_shared_axes[name]\u001b[39m.\u001b[39mget_siblings(\u001b[39mself\u001b[39m):\n\u001b[0;32m    775\u001b[0m         ax\u001b[39m.\u001b[39m_stale_viewlims[name] \u001b[39m=\u001b[39m \u001b[39mFalse\u001b[39;00m\n\u001b[1;32m--> 776\u001b[0m \u001b[39mself\u001b[39m\u001b[39m.\u001b[39mautoscale_view(\u001b[39m*\u001b[39m\u001b[39m*\u001b[39m{\u001b[39mf\u001b[39m\u001b[39m\"\u001b[39m\u001b[39mscale\u001b[39m\u001b[39m{\u001b[39;00mname\u001b[39m}\u001b[39;00m\u001b[39m\"\u001b[39m: scale\n\u001b[0;32m    777\u001b[0m                        \u001b[39mfor\u001b[39;00m name, scale \u001b[39min\u001b[39;00m need_scale\u001b[39m.\u001b[39mitems()})\n",
      "File \u001b[1;32mc:\\Users\\Vaibhav\\AppData\\Local\\Programs\\Python\\Python39\\lib\\site-packages\\matplotlib\\axes\\_base.py:2857\u001b[0m, in \u001b[0;36m_AxesBase.autoscale_view\u001b[1;34m(self, tight, scalex, scaley)\u001b[0m\n\u001b[0;32m   2851\u001b[0m         x_stickies \u001b[39m=\u001b[39m np\u001b[39m.\u001b[39msort(np\u001b[39m.\u001b[39mconcatenate([\n\u001b[0;32m   2852\u001b[0m             artist\u001b[39m.\u001b[39msticky_edges\u001b[39m.\u001b[39mx\n\u001b[0;32m   2853\u001b[0m             \u001b[39mfor\u001b[39;00m ax \u001b[39min\u001b[39;00m \u001b[39mself\u001b[39m\u001b[39m.\u001b[39m_shared_axes[\u001b[39m\"\u001b[39m\u001b[39mx\u001b[39m\u001b[39m\"\u001b[39m]\u001b[39m.\u001b[39mget_siblings(\u001b[39mself\u001b[39m)\n\u001b[0;32m   2854\u001b[0m             \u001b[39mif\u001b[39;00m \u001b[39mhasattr\u001b[39m(ax, \u001b[39m\"\u001b[39m\u001b[39m_children\u001b[39m\u001b[39m\"\u001b[39m)\n\u001b[0;32m   2855\u001b[0m             \u001b[39mfor\u001b[39;00m artist \u001b[39min\u001b[39;00m ax\u001b[39m.\u001b[39mget_children()]))\n\u001b[0;32m   2856\u001b[0m     \u001b[39mif\u001b[39;00m \u001b[39mself\u001b[39m\u001b[39m.\u001b[39m_ymargin \u001b[39mand\u001b[39;00m scaley \u001b[39mand\u001b[39;00m \u001b[39mself\u001b[39m\u001b[39m.\u001b[39m_autoscaleYon:\n\u001b[1;32m-> 2857\u001b[0m         y_stickies \u001b[39m=\u001b[39m np\u001b[39m.\u001b[39msort(np\u001b[39m.\u001b[39;49mconcatenate([\n\u001b[0;32m   2858\u001b[0m             artist\u001b[39m.\u001b[39;49msticky_edges\u001b[39m.\u001b[39;49my\n\u001b[0;32m   2859\u001b[0m             \u001b[39mfor\u001b[39;49;00m ax \u001b[39min\u001b[39;49;00m \u001b[39mself\u001b[39;49m\u001b[39m.\u001b[39;49m_shared_axes[\u001b[39m\"\u001b[39;49m\u001b[39my\u001b[39;49m\u001b[39m\"\u001b[39;49m]\u001b[39m.\u001b[39;49mget_siblings(\u001b[39mself\u001b[39;49m)\n\u001b[0;32m   2860\u001b[0m             \u001b[39mif\u001b[39;49;00m \u001b[39mhasattr\u001b[39;49m(ax, \u001b[39m\"\u001b[39;49m\u001b[39m_children\u001b[39;49m\u001b[39m\"\u001b[39;49m)\n\u001b[0;32m   2861\u001b[0m             \u001b[39mfor\u001b[39;49;00m artist \u001b[39min\u001b[39;49;00m ax\u001b[39m.\u001b[39;49mget_children()]))\n\u001b[0;32m   2862\u001b[0m \u001b[39mif\u001b[39;00m \u001b[39mself\u001b[39m\u001b[39m.\u001b[39mget_xscale() \u001b[39m==\u001b[39m \u001b[39m'\u001b[39m\u001b[39mlog\u001b[39m\u001b[39m'\u001b[39m:\n\u001b[0;32m   2863\u001b[0m     x_stickies \u001b[39m=\u001b[39m x_stickies[x_stickies \u001b[39m>\u001b[39m \u001b[39m0\u001b[39m]\n",
      "\u001b[1;31mKeyboardInterrupt\u001b[0m: "
     ]
    },
    {
     "data": {
      "image/png": "[encoded data removed]",
      "text/plain": [
       "<Figure size 432x288 with 1 Axes>"
      ]
     },
     "metadata": {
      "needs_background": "light"
     },
     "output_type": "display_data"
    }
   ],
   "source": [
    "# scatter plot of data points\n",
    "import matplotlib.pyplot as plt\n",
    "for i in range(len(p)):\n",
    "    for j in range(len(p[i])):\n",
    "        plt.scatter(p[i][j][0],p[i][j][1],color='red')"
   ]
  },
  {
   "cell_type": "code",
   "execution_count": 14,
   "metadata": {},
   "outputs": [
    {
     "data": {
      "image/png": "[encoded data removed]",
      "text/plain": [
       "<Figure size 432x288 with 1 Axes>"
      ]
     },
     "metadata": {
      "needs_background": "light"
     },
     "output_type": "display_data"
    },
    {
     "ename": "KeyboardInterrupt",
     "evalue": "",
     "output_type": "error",
     "traceback": [
      "\u001b[1;31m---------------------------------------------------------------------------\u001b[0m",
      "\u001b[1;31mKeyboardInterrupt\u001b[0m                         Traceback (most recent call last)",
      "\u001b[1;32mc:\\Users\\Vaibhav\\Desktop\\vaibhav programming\\Mtech_sem1\\Pattern Recognition\\Assignment2\\2cT.ipynb Cell 8\u001b[0m line \u001b[0;36m<cell line: 9>\u001b[1;34m()\u001b[0m\n\u001b[0;32m     <a href='vscode-notebook-cell:/c%3A/Users/Vaibhav/Desktop/vaibhav%20programming/Mtech_sem1/Pattern%20Recognition/Assignment2/2cT.ipynb#W6sZmlsZQ%3D%3D?line=12'>13</a>\u001b[0m     distances \u001b[39m=\u001b[39m []\n\u001b[0;32m     <a href='vscode-notebook-cell:/c%3A/Users/Vaibhav/Desktop/vaibhav%20programming/Mtech_sem1/Pattern%20Recognition/Assignment2/2cT.ipynb#W6sZmlsZQ%3D%3D?line=13'>14</a>\u001b[0m     \u001b[39mfor\u001b[39;00m cen \u001b[39min\u001b[39;00m center:\n\u001b[1;32m---> <a href='vscode-notebook-cell:/c%3A/Users/Vaibhav/Desktop/vaibhav%20programming/Mtech_sem1/Pattern%20Recognition/Assignment2/2cT.ipynb#W6sZmlsZQ%3D%3D?line=14'>15</a>\u001b[0m         distances\u001b[39m.\u001b[39mappend(Euclidean_distance(patch,cen))\n\u001b[0;32m     <a href='vscode-notebook-cell:/c%3A/Users/Vaibhav/Desktop/vaibhav%20programming/Mtech_sem1/Pattern%20Recognition/Assignment2/2cT.ipynb#W6sZmlsZQ%3D%3D?line=15'>16</a>\u001b[0m     labels\u001b[39m.\u001b[39mappend(distances\u001b[39m.\u001b[39mindex(\u001b[39mmin\u001b[39m(distances)))\n\u001b[0;32m     <a href='vscode-notebook-cell:/c%3A/Users/Vaibhav/Desktop/vaibhav%20programming/Mtech_sem1/Pattern%20Recognition/Assignment2/2cT.ipynb#W6sZmlsZQ%3D%3D?line=17'>18</a>\u001b[0m \u001b[39m#print(labels)\u001b[39;00m\n",
      "\u001b[1;32mc:\\Users\\Vaibhav\\Desktop\\vaibhav programming\\Mtech_sem1\\Pattern Recognition\\Assignment2\\2cT.ipynb Cell 8\u001b[0m line \u001b[0;36mEuclidean_distance\u001b[1;34m(x, y)\u001b[0m\n\u001b[0;32m      <a href='vscode-notebook-cell:/c%3A/Users/Vaibhav/Desktop/vaibhav%20programming/Mtech_sem1/Pattern%20Recognition/Assignment2/2cT.ipynb#W6sZmlsZQ%3D%3D?line=0'>1</a>\u001b[0m \u001b[39mdef\u001b[39;00m \u001b[39mEuclidean_distance\u001b[39m(x,y):\n\u001b[1;32m----> <a href='vscode-notebook-cell:/c%3A/Users/Vaibhav/Desktop/vaibhav%20programming/Mtech_sem1/Pattern%20Recognition/Assignment2/2cT.ipynb#W6sZmlsZQ%3D%3D?line=1'>2</a>\u001b[0m     \u001b[39mreturn\u001b[39;00m np\u001b[39m.\u001b[39msqrt(np\u001b[39m.\u001b[39;49msum((x\u001b[39m-\u001b[39;49my)\u001b[39m*\u001b[39;49m\u001b[39m*\u001b[39;49m\u001b[39m2\u001b[39;49m))\n",
      "File \u001b[1;32mc:\\Users\\Vaibhav\\AppData\\Local\\Programs\\Python\\Python39\\lib\\site-packages\\numpy\\core\\fromnumeric.py:2313\u001b[0m, in \u001b[0;36msum\u001b[1;34m(a, axis, dtype, out, keepdims, initial, where)\u001b[0m\n\u001b[0;32m   2310\u001b[0m         \u001b[39mreturn\u001b[39;00m out\n\u001b[0;32m   2311\u001b[0m     \u001b[39mreturn\u001b[39;00m res\n\u001b[1;32m-> 2313\u001b[0m \u001b[39mreturn\u001b[39;00m _wrapreduction(a, np\u001b[39m.\u001b[39;49madd, \u001b[39m'\u001b[39;49m\u001b[39msum\u001b[39;49m\u001b[39m'\u001b[39;49m, axis, dtype, out, keepdims\u001b[39m=\u001b[39;49mkeepdims,\n\u001b[0;32m   2314\u001b[0m                       initial\u001b[39m=\u001b[39;49minitial, where\u001b[39m=\u001b[39;49mwhere)\n",
      "File \u001b[1;32mc:\\Users\\Vaibhav\\AppData\\Local\\Programs\\Python\\Python39\\lib\\site-packages\\numpy\\core\\fromnumeric.py:72\u001b[0m, in \u001b[0;36m_wrapreduction\u001b[1;34m(obj, ufunc, method, axis, dtype, out, **kwargs)\u001b[0m\n\u001b[0;32m     71\u001b[0m \u001b[39mdef\u001b[39;00m \u001b[39m_wrapreduction\u001b[39m(obj, ufunc, method, axis, dtype, out, \u001b[39m*\u001b[39m\u001b[39m*\u001b[39mkwargs):\n\u001b[1;32m---> 72\u001b[0m     passkwargs \u001b[39m=\u001b[39m {k: v \u001b[39mfor\u001b[39;00m k, v \u001b[39min\u001b[39;00m kwargs\u001b[39m.\u001b[39mitems()\n\u001b[0;32m     73\u001b[0m                   \u001b[39mif\u001b[39;00m v \u001b[39mis\u001b[39;00m \u001b[39mnot\u001b[39;00m np\u001b[39m.\u001b[39m_NoValue}\n\u001b[0;32m     75\u001b[0m     \u001b[39mif\u001b[39;00m \u001b[39mtype\u001b[39m(obj) \u001b[39mis\u001b[39;00m \u001b[39mnot\u001b[39;00m mu\u001b[39m.\u001b[39mndarray:\n\u001b[0;32m     76\u001b[0m         \u001b[39mtry\u001b[39;00m:\n",
      "\u001b[1;31mKeyboardInterrupt\u001b[0m: "
     ]
    }
   ],
   "source": [
    "#using the center to classify the patches\n",
    "import matplotlib.pyplot as plt\n",
    "path = \"./2c/Test/\"\n",
    "images = []\n",
    "for filename in os.listdir(path):\n",
    "    im = Image.open(path + filename)\n",
    "    images.append(im)\n",
    "\n",
    "for image in images:\n",
    "    patches = get_patches(image)\n",
    "    labels = []\n",
    "    for patch in patches:\n",
    "        distances = []\n",
    "        for cen in center:\n",
    "            distances.append(Euclidean_distance(patch,cen))\n",
    "        labels.append(distances.index(min(distances)))\n",
    "        \n",
    "    #print(labels)\n",
    "    labels = np.array(labels)\n",
    "    labels = labels.reshape(image.size[0]-n,image.size[1]-n)\n",
    "    plt.imshow(labels)\n",
    "    plt.show()\n"
   ]
  }
 ],
 "metadata": {
  "kernelspec": {
   "display_name": "Python 3",
   "language": "python",
   "name": "python3"
  },
  "language_info": {
   "codemirror_mode": {
    "name": "ipython",
    "version": 3
   },
   "file_extension": ".py",
   "mimetype": "text/x-python",
   "name": "python",
   "nbconvert_exporter": "python",
   "pygments_lexer": "ipython3",
   "version": "3.9.1"
  }
 },
 "nbformat": 4,
 "nbformat_minor": 2
}
